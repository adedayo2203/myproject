{
 "cells": [
  {
   "cell_type": "code",
   "execution_count": 1,
   "id": "c6c2661d",
   "metadata": {},
   "outputs": [],
   "source": [
    "import pandas as pd\n",
    "import numpy as np\n",
    "import matplotlib.pyplot as plt\n",
    "\n",
    "from sklearn.metrics import precision_score, recall_score, classification_report, confusion_matrix, accuracy_score, f1_score\n",
    "from sklearn.model_selection import train_test_split\n",
    "from pretty_confusion_matrix import pp_matrix_from_data\n",
    "\n",
    "# Models\n",
    "from xgboost import XGBClassifier\n",
    "from sklearn.ensemble import GradientBoostingClassifier, RandomForestClassifier\n",
    "from sklearn.tree import DecisionTreeClassifier\n",
    "\n",
    "import tensorflow as tf\n",
    "from tensorflow.keras.layers import Dense, Dropout, Input\n",
    "from tensorflow.keras import Sequential, Model\n",
    "from tensorflow.keras.utils import plot_model"
   ]
  },
  {
   "cell_type": "markdown",
   "id": "f25c5b07",
   "metadata": {},
   "source": [
    "### Load Data"
   ]
  },
  {
   "cell_type": "code",
   "execution_count": 2,
   "id": "41e9aeb8",
   "metadata": {},
   "outputs": [
    {
     "data": {
      "text/html": [
       "<div>\n",
       "<style scoped>\n",
       "    .dataframe tbody tr th:only-of-type {\n",
       "        vertical-align: middle;\n",
       "    }\n",
       "\n",
       "    .dataframe tbody tr th {\n",
       "        vertical-align: top;\n",
       "    }\n",
       "\n",
       "    .dataframe thead th {\n",
       "        text-align: right;\n",
       "    }\n",
       "</style>\n",
       "<table border=\"1\" class=\"dataframe\">\n",
       "  <thead>\n",
       "    <tr style=\"text-align: right;\">\n",
       "      <th></th>\n",
       "      <th>Unnamed: 0</th>\n",
       "      <th>r</th>\n",
       "      <th>rw</th>\n",
       "      <th>rx</th>\n",
       "      <th>rwc</th>\n",
       "      <th>rwx</th>\n",
       "      <th>rwxc</th>\n",
       "      <th>label</th>\n",
       "      <th>category</th>\n",
       "      <th>sample</th>\n",
       "    </tr>\n",
       "  </thead>\n",
       "  <tbody>\n",
       "    <tr>\n",
       "      <th>0</th>\n",
       "      <td>0</td>\n",
       "      <td>367</td>\n",
       "      <td>307</td>\n",
       "      <td>117</td>\n",
       "      <td>84</td>\n",
       "      <td>70</td>\n",
       "      <td>0</td>\n",
       "      <td>B</td>\n",
       "      <td>Utilities</td>\n",
       "      <td>B_Utilities_7zip.json</td>\n",
       "    </tr>\n",
       "    <tr>\n",
       "      <th>1</th>\n",
       "      <td>1</td>\n",
       "      <td>107</td>\n",
       "      <td>96</td>\n",
       "      <td>43</td>\n",
       "      <td>31</td>\n",
       "      <td>5</td>\n",
       "      <td>0</td>\n",
       "      <td>B</td>\n",
       "      <td>Utilities</td>\n",
       "      <td>B_Utilities_7zip.json</td>\n",
       "    </tr>\n",
       "    <tr>\n",
       "      <th>2</th>\n",
       "      <td>2</td>\n",
       "      <td>62</td>\n",
       "      <td>59</td>\n",
       "      <td>18</td>\n",
       "      <td>21</td>\n",
       "      <td>49</td>\n",
       "      <td>0</td>\n",
       "      <td>B</td>\n",
       "      <td>Utilities</td>\n",
       "      <td>B_Utilities_AxCrypt.json</td>\n",
       "    </tr>\n",
       "    <tr>\n",
       "      <th>3</th>\n",
       "      <td>3</td>\n",
       "      <td>132</td>\n",
       "      <td>120</td>\n",
       "      <td>52</td>\n",
       "      <td>40</td>\n",
       "      <td>6</td>\n",
       "      <td>0</td>\n",
       "      <td>B</td>\n",
       "      <td>Filezilla.json</td>\n",
       "      <td>B_Filezilla.json</td>\n",
       "    </tr>\n",
       "    <tr>\n",
       "      <th>4</th>\n",
       "      <td>4</td>\n",
       "      <td>165</td>\n",
       "      <td>166</td>\n",
       "      <td>69</td>\n",
       "      <td>35</td>\n",
       "      <td>6</td>\n",
       "      <td>0</td>\n",
       "      <td>B</td>\n",
       "      <td>Spotify.json</td>\n",
       "      <td>B_Spotify.json</td>\n",
       "    </tr>\n",
       "  </tbody>\n",
       "</table>\n",
       "</div>"
      ],
      "text/plain": [
       "   Unnamed: 0    r   rw   rx  rwc  rwx  rwxc label        category  \\\n",
       "0           0  367  307  117   84   70     0     B       Utilities   \n",
       "1           1  107   96   43   31    5     0     B       Utilities   \n",
       "2           2   62   59   18   21   49     0     B       Utilities   \n",
       "3           3  132  120   52   40    6     0     B  Filezilla.json   \n",
       "4           4  165  166   69   35    6     0     B    Spotify.json   \n",
       "\n",
       "                     sample  \n",
       "0     B_Utilities_7zip.json  \n",
       "1     B_Utilities_7zip.json  \n",
       "2  B_Utilities_AxCrypt.json  \n",
       "3          B_Filezilla.json  \n",
       "4            B_Spotify.json  "
      ]
     },
     "execution_count": 2,
     "metadata": {},
     "output_type": "execute_result"
    }
   ],
   "source": [
    "df = pd.read_excel('features.xlsx')\n",
    "df.head()"
   ]
  },
  {
   "cell_type": "markdown",
   "id": "1d19acae",
   "metadata": {},
   "source": [
    "### EDA"
   ]
  },
  {
   "cell_type": "code",
   "execution_count": 3,
   "id": "6f887262",
   "metadata": {},
   "outputs": [
    {
     "name": "stdout",
     "output_type": "stream",
     "text": [
      "<class 'pandas.core.frame.DataFrame'>\n",
      "RangeIndex: 937 entries, 0 to 936\n",
      "Data columns (total 10 columns):\n",
      " #   Column      Non-Null Count  Dtype \n",
      "---  ------      --------------  ----- \n",
      " 0   Unnamed: 0  937 non-null    int64 \n",
      " 1   r           937 non-null    int64 \n",
      " 2   rw          937 non-null    int64 \n",
      " 3   rx          937 non-null    int64 \n",
      " 4   rwc         937 non-null    int64 \n",
      " 5   rwx         937 non-null    int64 \n",
      " 6   rwxc        937 non-null    int64 \n",
      " 7   label       937 non-null    object\n",
      " 8   category    937 non-null    object\n",
      " 9   sample      937 non-null    object\n",
      "dtypes: int64(7), object(3)\n",
      "memory usage: 73.3+ KB\n"
     ]
    }
   ],
   "source": [
    "df.info()"
   ]
  },
  {
   "cell_type": "code",
   "execution_count": 6,
   "id": "bea02dc2",
   "metadata": {},
   "outputs": [
    {
     "data": {
      "text/plain": [
       "Unnamed: 0    0\n",
       "r             0\n",
       "rw            0\n",
       "rx            0\n",
       "rwc           0\n",
       "rwx           0\n",
       "rwxc          0\n",
       "label         0\n",
       "category      0\n",
       "sample        0\n",
       "dtype: int64"
      ]
     },
     "execution_count": 6,
     "metadata": {},
     "output_type": "execute_result"
    }
   ],
   "source": [
    "# check mising values\n",
    "df.isnull().sum()"
   ]
  },
  {
   "cell_type": "code",
   "execution_count": 5,
   "id": "7921ef57",
   "metadata": {},
   "outputs": [
    {
     "data": {
      "text/plain": [
       "array(['B', 'M'], dtype=object)"
      ]
     },
     "execution_count": 5,
     "metadata": {},
     "output_type": "execute_result"
    }
   ],
   "source": [
    "df['label'].unique()"
   ]
  },
  {
   "cell_type": "code",
   "execution_count": 6,
   "id": "a726103f",
   "metadata": {},
   "outputs": [
    {
     "data": {
      "image/png": "[encoded data removed]",
      "text/plain": [
       "<Figure size 432x288 with 1 Axes>"
      ]
     },
     "metadata": {
      "needs_background": "light"
     },
     "output_type": "display_data"
    }
   ],
   "source": [
    "(df['label'].value_counts()).plot(kind='bar');"
   ]
  },
  {
   "cell_type": "code",
   "execution_count": 7,
   "id": "292a3830",
   "metadata": {},
   "outputs": [],
   "source": [
    "# Map lables to numbers\n",
    "df['label'] = df['label'].map({'B':0, 'M':1})"
   ]
  },
  {
   "cell_type": "code",
   "execution_count": 8,
   "id": "45c67d11",
   "metadata": {},
   "outputs": [
    {
     "data": {
      "text/plain": [
       "0    476\n",
       "1    461\n",
       "Name: label, dtype: int64"
      ]
     },
     "execution_count": 8,
     "metadata": {},
     "output_type": "execute_result"
    }
   ],
   "source": [
    "df['label'].value_counts()"
   ]
  },
  {
   "cell_type": "code",
   "execution_count": 9,
   "id": "aba35d7b",
   "metadata": {},
   "outputs": [
    {
     "data": {
      "text/html": [
       "<div>\n",
       "<style scoped>\n",
       "    .dataframe tbody tr th:only-of-type {\n",
       "        vertical-align: middle;\n",
       "    }\n",
       "\n",
       "    .dataframe tbody tr th {\n",
       "        vertical-align: top;\n",
       "    }\n",
       "\n",
       "    .dataframe thead th {\n",
       "        text-align: right;\n",
       "    }\n",
       "</style>\n",
       "<table border=\"1\" class=\"dataframe\">\n",
       "  <thead>\n",
       "    <tr style=\"text-align: right;\">\n",
       "      <th></th>\n",
       "      <th>Unnamed: 0</th>\n",
       "      <th>r</th>\n",
       "      <th>rw</th>\n",
       "      <th>rx</th>\n",
       "      <th>rwc</th>\n",
       "      <th>rwx</th>\n",
       "      <th>rwxc</th>\n",
       "      <th>label</th>\n",
       "      <th>category</th>\n",
       "      <th>sample</th>\n",
       "    </tr>\n",
       "  </thead>\n",
       "  <tbody>\n",
       "    <tr>\n",
       "      <th>0</th>\n",
       "      <td>0</td>\n",
       "      <td>367</td>\n",
       "      <td>307</td>\n",
       "      <td>117</td>\n",
       "      <td>84</td>\n",
       "      <td>70</td>\n",
       "      <td>0</td>\n",
       "      <td>0</td>\n",
       "      <td>Utilities</td>\n",
       "      <td>B_Utilities_7zip.json</td>\n",
       "    </tr>\n",
       "    <tr>\n",
       "      <th>1</th>\n",
       "      <td>1</td>\n",
       "      <td>107</td>\n",
       "      <td>96</td>\n",
       "      <td>43</td>\n",
       "      <td>31</td>\n",
       "      <td>5</td>\n",
       "      <td>0</td>\n",
       "      <td>0</td>\n",
       "      <td>Utilities</td>\n",
       "      <td>B_Utilities_7zip.json</td>\n",
       "    </tr>\n",
       "    <tr>\n",
       "      <th>2</th>\n",
       "      <td>2</td>\n",
       "      <td>62</td>\n",
       "      <td>59</td>\n",
       "      <td>18</td>\n",
       "      <td>21</td>\n",
       "      <td>49</td>\n",
       "      <td>0</td>\n",
       "      <td>0</td>\n",
       "      <td>Utilities</td>\n",
       "      <td>B_Utilities_AxCrypt.json</td>\n",
       "    </tr>\n",
       "    <tr>\n",
       "      <th>3</th>\n",
       "      <td>3</td>\n",
       "      <td>132</td>\n",
       "      <td>120</td>\n",
       "      <td>52</td>\n",
       "      <td>40</td>\n",
       "      <td>6</td>\n",
       "      <td>0</td>\n",
       "      <td>0</td>\n",
       "      <td>Filezilla.json</td>\n",
       "      <td>B_Filezilla.json</td>\n",
       "    </tr>\n",
       "    <tr>\n",
       "      <th>4</th>\n",
       "      <td>4</td>\n",
       "      <td>165</td>\n",
       "      <td>166</td>\n",
       "      <td>69</td>\n",
       "      <td>35</td>\n",
       "      <td>6</td>\n",
       "      <td>0</td>\n",
       "      <td>0</td>\n",
       "      <td>Spotify.json</td>\n",
       "      <td>B_Spotify.json</td>\n",
       "    </tr>\n",
       "  </tbody>\n",
       "</table>\n",
       "</div>"
      ],
      "text/plain": [
       "   Unnamed: 0    r   rw   rx  rwc  rwx  rwxc  label        category  \\\n",
       "0           0  367  307  117   84   70     0      0       Utilities   \n",
       "1           1  107   96   43   31    5     0      0       Utilities   \n",
       "2           2   62   59   18   21   49     0      0       Utilities   \n",
       "3           3  132  120   52   40    6     0      0  Filezilla.json   \n",
       "4           4  165  166   69   35    6     0      0    Spotify.json   \n",
       "\n",
       "                     sample  \n",
       "0     B_Utilities_7zip.json  \n",
       "1     B_Utilities_7zip.json  \n",
       "2  B_Utilities_AxCrypt.json  \n",
       "3          B_Filezilla.json  \n",
       "4            B_Spotify.json  "
      ]
     },
     "execution_count": 9,
     "metadata": {},
     "output_type": "execute_result"
    }
   ],
   "source": [
    "df.head()"
   ]
  },
  {
   "cell_type": "code",
   "execution_count": 10,
   "id": "1b0101ff",
   "metadata": {},
   "outputs": [],
   "source": [
    "df.drop(['Unnamed: 0', 'category', 'sample'], inplace=True, axis=1)"
   ]
  },
  {
   "cell_type": "code",
   "execution_count": 11,
   "id": "a5f4a894",
   "metadata": {},
   "outputs": [
    {
     "data": {
      "text/html": [
       "<div>\n",
       "<style scoped>\n",
       "    .dataframe tbody tr th:only-of-type {\n",
       "        vertical-align: middle;\n",
       "    }\n",
       "\n",
       "    .dataframe tbody tr th {\n",
       "        vertical-align: top;\n",
       "    }\n",
       "\n",
       "    .dataframe thead th {\n",
       "        text-align: right;\n",
       "    }\n",
       "</style>\n",
       "<table border=\"1\" class=\"dataframe\">\n",
       "  <thead>\n",
       "    <tr style=\"text-align: right;\">\n",
       "      <th></th>\n",
       "      <th>r</th>\n",
       "      <th>rw</th>\n",
       "      <th>rx</th>\n",
       "      <th>rwc</th>\n",
       "      <th>rwx</th>\n",
       "      <th>rwxc</th>\n",
       "      <th>label</th>\n",
       "    </tr>\n",
       "  </thead>\n",
       "  <tbody>\n",
       "    <tr>\n",
       "      <th>0</th>\n",
       "      <td>367</td>\n",
       "      <td>307</td>\n",
       "      <td>117</td>\n",
       "      <td>84</td>\n",
       "      <td>70</td>\n",
       "      <td>0</td>\n",
       "      <td>0</td>\n",
       "    </tr>\n",
       "    <tr>\n",
       "      <th>1</th>\n",
       "      <td>107</td>\n",
       "      <td>96</td>\n",
       "      <td>43</td>\n",
       "      <td>31</td>\n",
       "      <td>5</td>\n",
       "      <td>0</td>\n",
       "      <td>0</td>\n",
       "    </tr>\n",
       "    <tr>\n",
       "      <th>2</th>\n",
       "      <td>62</td>\n",
       "      <td>59</td>\n",
       "      <td>18</td>\n",
       "      <td>21</td>\n",
       "      <td>49</td>\n",
       "      <td>0</td>\n",
       "      <td>0</td>\n",
       "    </tr>\n",
       "    <tr>\n",
       "      <th>3</th>\n",
       "      <td>132</td>\n",
       "      <td>120</td>\n",
       "      <td>52</td>\n",
       "      <td>40</td>\n",
       "      <td>6</td>\n",
       "      <td>0</td>\n",
       "      <td>0</td>\n",
       "    </tr>\n",
       "    <tr>\n",
       "      <th>4</th>\n",
       "      <td>165</td>\n",
       "      <td>166</td>\n",
       "      <td>69</td>\n",
       "      <td>35</td>\n",
       "      <td>6</td>\n",
       "      <td>0</td>\n",
       "      <td>0</td>\n",
       "    </tr>\n",
       "  </tbody>\n",
       "</table>\n",
       "</div>"
      ],
      "text/plain": [
       "     r   rw   rx  rwc  rwx  rwxc  label\n",
       "0  367  307  117   84   70     0      0\n",
       "1  107   96   43   31    5     0      0\n",
       "2   62   59   18   21   49     0      0\n",
       "3  132  120   52   40    6     0      0\n",
       "4  165  166   69   35    6     0      0"
      ]
     },
     "execution_count": 11,
     "metadata": {},
     "output_type": "execute_result"
    }
   ],
   "source": [
    "df.head()"
   ]
  },
  {
   "cell_type": "code",
   "execution_count": 12,
   "id": "16e496d8",
   "metadata": {},
   "outputs": [],
   "source": [
    "features = df.iloc[:, :-1].values\n",
    "labels = df['label'].values"
   ]
  },
  {
   "cell_type": "markdown",
   "id": "ea65a814",
   "metadata": {},
   "source": [
    "### Split Dataset to training and testing set"
   ]
  },
  {
   "cell_type": "code",
   "execution_count": 13,
   "id": "f0c3594c",
   "metadata": {},
   "outputs": [],
   "source": [
    "x_train, x_test, y_train, y_test  = train_test_split(features, labels, test_size=0.2, random_state=42, stratify=labels)"
   ]
  },
  {
   "cell_type": "markdown",
   "id": "afb64947",
   "metadata": {},
   "source": [
    "### Modelling "
   ]
  },
  {
   "cell_type": "code",
   "execution_count": 14,
   "id": "f62db7eb",
   "metadata": {},
   "outputs": [],
   "source": [
    "def model_peformance(model_name, y_test, y_pred):\n",
    "    \n",
    "    overall_accuracy = round(accuracy_score(y_test, y_pred), 2)\n",
    "    \n",
    "    # Precision for Benign class\n",
    "    B_precision = round(precision_score(y_test==0, y_pred==0), 2)\n",
    "    M_precision = round(precision_score(y_test==1, y_pred==1), 2)\n",
    "    \n",
    "    # recall for benign class\n",
    "    B_recall = round(recall_score(y_test==0, y_pred==0), 2)\n",
    "    M_recall = round(recall_score(y_test==1, y_pred==1), 2)\n",
    "    \n",
    "    B_f1_score = round(f1_score(y_test==0, y_pred==0), 2)\n",
    "    M_f1_score = round(f1_score(y_test==1, y_pred==1), 2)\n",
    "    \n",
    "    # Caluclate TN, FP, BFN, BTP for Benign class\n",
    "    BTN, BFP, BFN, BTP = confusion_matrix(y_test==0, y_pred==0).ravel()\n",
    "    \n",
    "    # Caluclate TN, FP, BFN, BTP for Malicious class\n",
    "    MTN, MFP, MFN, MTP = confusion_matrix(y_test==1, y_pred==1).ravel()\n",
    "    \n",
    "    pp_matrix_from_data(y_test, y_pred, columns=['Benign', 'Malicious'])\n",
    "    \n",
    "    print(f\"Performance table for {model_name} classifier!\")\n",
    "    table = pd.DataFrame({'Label':['Benign', 'Malicious'],\n",
    "              'TP':[BTP, MTP],\n",
    "              'FP':[BFP, MFP],\n",
    "              'TN':[BTN, MTN],\n",
    "              'FN':[BFN, MFN],\n",
    "              'Precision':[B_precision, M_precision],\n",
    "              'Recall':[B_recall, M_recall],\n",
    "              'F1 Score':[B_f1_score, M_f1_score],\n",
    "              'Overall Accuracy': overall_accuracy\n",
    "             })\n",
    "     \n",
    "    return table"
   ]
  },
  {
   "cell_type": "markdown",
   "id": "917b0947",
   "metadata": {},
   "source": [
    "### Decision Tree"
   ]
  },
  {
   "cell_type": "code",
   "execution_count": 15,
   "id": "0c15b81f",
   "metadata": {},
   "outputs": [],
   "source": [
    "decision_tree = DecisionTreeClassifier()\n",
    "\n",
    "# Fit on training data\n",
    "decision_tree.fit(x_train, y_train)\n",
    "dec_tree_pred = decision_tree.predict(x_test)"
   ]
  },
  {
   "cell_type": "code",
   "execution_count": 16,
   "id": "d6336cce",
   "metadata": {},
   "outputs": [
    {
     "data": {
      "image/png": "[encoded data removed]",
      "text/plain": [
       "<Figure size 648x648 with 1 Axes>"
      ]
     },
     "metadata": {
      "needs_background": "light"
     },
     "output_type": "display_data"
    },
    {
     "name": "stdout",
     "output_type": "stream",
     "text": [
      "Performance table for Decision Tree classifier!\n"
     ]
    },
    {
     "data": {
      "text/html": [
       "<div>\n",
       "<style scoped>\n",
       "    .dataframe tbody tr th:only-of-type {\n",
       "        vertical-align: middle;\n",
       "    }\n",
       "\n",
       "    .dataframe tbody tr th {\n",
       "        vertical-align: top;\n",
       "    }\n",
       "\n",
       "    .dataframe thead th {\n",
       "        text-align: right;\n",
       "    }\n",
       "</style>\n",
       "<table border=\"1\" class=\"dataframe\">\n",
       "  <thead>\n",
       "    <tr style=\"text-align: right;\">\n",
       "      <th></th>\n",
       "      <th>Label</th>\n",
       "      <th>TP</th>\n",
       "      <th>FP</th>\n",
       "      <th>TN</th>\n",
       "      <th>FN</th>\n",
       "      <th>Precision</th>\n",
       "      <th>Recall</th>\n",
       "      <th>F1 Score</th>\n",
       "      <th>Overall Accuracy</th>\n",
       "    </tr>\n",
       "  </thead>\n",
       "  <tbody>\n",
       "    <tr>\n",
       "      <th>0</th>\n",
       "      <td>Benign</td>\n",
       "      <td>92</td>\n",
       "      <td>6</td>\n",
       "      <td>86</td>\n",
       "      <td>4</td>\n",
       "      <td>0.94</td>\n",
       "      <td>0.96</td>\n",
       "      <td>0.95</td>\n",
       "      <td>0.95</td>\n",
       "    </tr>\n",
       "    <tr>\n",
       "      <th>1</th>\n",
       "      <td>Malicious</td>\n",
       "      <td>86</td>\n",
       "      <td>4</td>\n",
       "      <td>92</td>\n",
       "      <td>6</td>\n",
       "      <td>0.96</td>\n",
       "      <td>0.93</td>\n",
       "      <td>0.95</td>\n",
       "      <td>0.95</td>\n",
       "    </tr>\n",
       "  </tbody>\n",
       "</table>\n",
       "</div>"
      ],
      "text/plain": [
       "       Label  TP  FP  TN  FN  Precision  Recall  F1 Score  Overall Accuracy\n",
       "0     Benign  92   6  86   4       0.94    0.96      0.95              0.95\n",
       "1  Malicious  86   4  92   6       0.96    0.93      0.95              0.95"
      ]
     },
     "execution_count": 16,
     "metadata": {},
     "output_type": "execute_result"
    }
   ],
   "source": [
    "# Evaluate Perfomance\n",
    "model_peformance('Decision Tree',y_test, dec_tree_pred)"
   ]
  },
  {
   "cell_type": "markdown",
   "id": "245a2248",
   "metadata": {},
   "source": [
    "### Random Forest"
   ]
  },
  {
   "cell_type": "code",
   "execution_count": 17,
   "id": "bb52b7c7",
   "metadata": {},
   "outputs": [],
   "source": [
    "Random_forest = RandomForestClassifier()\n",
    "Random_forest.fit(x_train, y_train)\n",
    "# Fit on Data\n",
    "Random_forest_pred = Random_forest.predict(x_test)"
   ]
  },
  {
   "cell_type": "code",
   "execution_count": 18,
   "id": "dd4e7c47",
   "metadata": {},
   "outputs": [
    {
     "data": {
      "image/png": "[encoded data removed]",
      "text/plain": [
       "<Figure size 648x648 with 1 Axes>"
      ]
     },
     "metadata": {
      "needs_background": "light"
     },
     "output_type": "display_data"
    },
    {
     "name": "stdout",
     "output_type": "stream",
     "text": [
      "Performance table for Random Forest classifier!\n"
     ]
    },
    {
     "data": {
      "text/html": [
       "<div>\n",
       "<style scoped>\n",
       "    .dataframe tbody tr th:only-of-type {\n",
       "        vertical-align: middle;\n",
       "    }\n",
       "\n",
       "    .dataframe tbody tr th {\n",
       "        vertical-align: top;\n",
       "    }\n",
       "\n",
       "    .dataframe thead th {\n",
       "        text-align: right;\n",
       "    }\n",
       "</style>\n",
       "<table border=\"1\" class=\"dataframe\">\n",
       "  <thead>\n",
       "    <tr style=\"text-align: right;\">\n",
       "      <th></th>\n",
       "      <th>Label</th>\n",
       "      <th>TP</th>\n",
       "      <th>FP</th>\n",
       "      <th>TN</th>\n",
       "      <th>FN</th>\n",
       "      <th>Precision</th>\n",
       "      <th>Recall</th>\n",
       "      <th>F1 Score</th>\n",
       "      <th>Overall Accuracy</th>\n",
       "    </tr>\n",
       "  </thead>\n",
       "  <tbody>\n",
       "    <tr>\n",
       "      <th>0</th>\n",
       "      <td>Benign</td>\n",
       "      <td>94</td>\n",
       "      <td>4</td>\n",
       "      <td>88</td>\n",
       "      <td>2</td>\n",
       "      <td>0.96</td>\n",
       "      <td>0.98</td>\n",
       "      <td>0.97</td>\n",
       "      <td>0.97</td>\n",
       "    </tr>\n",
       "    <tr>\n",
       "      <th>1</th>\n",
       "      <td>Malicious</td>\n",
       "      <td>88</td>\n",
       "      <td>2</td>\n",
       "      <td>94</td>\n",
       "      <td>4</td>\n",
       "      <td>0.98</td>\n",
       "      <td>0.96</td>\n",
       "      <td>0.97</td>\n",
       "      <td>0.97</td>\n",
       "    </tr>\n",
       "  </tbody>\n",
       "</table>\n",
       "</div>"
      ],
      "text/plain": [
       "       Label  TP  FP  TN  FN  Precision  Recall  F1 Score  Overall Accuracy\n",
       "0     Benign  94   4  88   2       0.96    0.98      0.97              0.97\n",
       "1  Malicious  88   2  94   4       0.98    0.96      0.97              0.97"
      ]
     },
     "execution_count": 18,
     "metadata": {},
     "output_type": "execute_result"
    }
   ],
   "source": [
    "model_peformance(\"Random Forest\", y_test, Random_forest_pred)"
   ]
  },
  {
   "cell_type": "markdown",
   "id": "0d14791f",
   "metadata": {},
   "source": [
    "### XGboost"
   ]
  },
  {
   "cell_type": "code",
   "execution_count": 19,
   "id": "32f77314",
   "metadata": {},
   "outputs": [
    {
     "name": "stdout",
     "output_type": "stream",
     "text": [
      "[12:24:32] WARNING: C:/Users/Administrator/workspace/xgboost-win64_release_1.5.1/src/learner.cc:1115: Starting in XGBoost 1.3.0, the default evaluation metric used with the objective 'binary:logistic' was changed from 'error' to 'logloss'. Explicitly set eval_metric if you'd like to restore the old behavior.\n"
     ]
    }
   ],
   "source": [
    "xgb = XGBClassifier(use_label_encoder=False)\n",
    "xgb.fit(x_train, y_train)\n",
    "xgb_pred = xgb.predict(x_test)"
   ]
  },
  {
   "cell_type": "code",
   "execution_count": 20,
   "id": "780b004e",
   "metadata": {},
   "outputs": [
    {
     "data": {
      "image/png": "[encoded data removed]",
      "text/plain": [
       "<Figure size 648x648 with 1 Axes>"
      ]
     },
     "metadata": {
      "needs_background": "light"
     },
     "output_type": "display_data"
    },
    {
     "name": "stdout",
     "output_type": "stream",
     "text": [
      "Performance table for XGBoost classifier!\n"
     ]
    },
    {
     "data": {
      "text/html": [
       "<div>\n",
       "<style scoped>\n",
       "    .dataframe tbody tr th:only-of-type {\n",
       "        vertical-align: middle;\n",
       "    }\n",
       "\n",
       "    .dataframe tbody tr th {\n",
       "        vertical-align: top;\n",
       "    }\n",
       "\n",
       "    .dataframe thead th {\n",
       "        text-align: right;\n",
       "    }\n",
       "</style>\n",
       "<table border=\"1\" class=\"dataframe\">\n",
       "  <thead>\n",
       "    <tr style=\"text-align: right;\">\n",
       "      <th></th>\n",
       "      <th>Label</th>\n",
       "      <th>TP</th>\n",
       "      <th>FP</th>\n",
       "      <th>TN</th>\n",
       "      <th>FN</th>\n",
       "      <th>Precision</th>\n",
       "      <th>Recall</th>\n",
       "      <th>F1 Score</th>\n",
       "      <th>Overall Accuracy</th>\n",
       "    </tr>\n",
       "  </thead>\n",
       "  <tbody>\n",
       "    <tr>\n",
       "      <th>0</th>\n",
       "      <td>Benign</td>\n",
       "      <td>93</td>\n",
       "      <td>5</td>\n",
       "      <td>87</td>\n",
       "      <td>3</td>\n",
       "      <td>0.95</td>\n",
       "      <td>0.97</td>\n",
       "      <td>0.96</td>\n",
       "      <td>0.96</td>\n",
       "    </tr>\n",
       "    <tr>\n",
       "      <th>1</th>\n",
       "      <td>Malicious</td>\n",
       "      <td>87</td>\n",
       "      <td>3</td>\n",
       "      <td>93</td>\n",
       "      <td>5</td>\n",
       "      <td>0.97</td>\n",
       "      <td>0.95</td>\n",
       "      <td>0.96</td>\n",
       "      <td>0.96</td>\n",
       "    </tr>\n",
       "  </tbody>\n",
       "</table>\n",
       "</div>"
      ],
      "text/plain": [
       "       Label  TP  FP  TN  FN  Precision  Recall  F1 Score  Overall Accuracy\n",
       "0     Benign  93   5  87   3       0.95    0.97      0.96              0.96\n",
       "1  Malicious  87   3  93   5       0.97    0.95      0.96              0.96"
      ]
     },
     "execution_count": 20,
     "metadata": {},
     "output_type": "execute_result"
    }
   ],
   "source": [
    "model_peformance(\"XGBoost\", y_test, xgb_pred)"
   ]
  },
  {
   "cell_type": "code",
   "execution_count": 21,
   "id": "4cc4ac3a",
   "metadata": {},
   "outputs": [],
   "source": [
    "gradient_boost = GradientBoostingClassifier()\n",
    "\n",
    "gradient_boost.fit(x_train, y_train)\n",
    "\n",
    "gradient_pred = gradient_boost.predict(x_test)"
   ]
  },
  {
   "cell_type": "code",
   "execution_count": 22,
   "id": "6d48e8db",
   "metadata": {},
   "outputs": [
    {
     "data": {
      "image/png": "[encoded data removed]",
      "text/plain": [
       "<Figure size 648x648 with 1 Axes>"
      ]
     },
     "metadata": {
      "needs_background": "light"
     },
     "output_type": "display_data"
    },
    {
     "name": "stdout",
     "output_type": "stream",
     "text": [
      "Performance table for Gradient Boosting classifier!\n"
     ]
    },
    {
     "data": {
      "text/html": [
       "<div>\n",
       "<style scoped>\n",
       "    .dataframe tbody tr th:only-of-type {\n",
       "        vertical-align: middle;\n",
       "    }\n",
       "\n",
       "    .dataframe tbody tr th {\n",
       "        vertical-align: top;\n",
       "    }\n",
       "\n",
       "    .dataframe thead th {\n",
       "        text-align: right;\n",
       "    }\n",
       "</style>\n",
       "<table border=\"1\" class=\"dataframe\">\n",
       "  <thead>\n",
       "    <tr style=\"text-align: right;\">\n",
       "      <th></th>\n",
       "      <th>Label</th>\n",
       "      <th>TP</th>\n",
       "      <th>FP</th>\n",
       "      <th>TN</th>\n",
       "      <th>FN</th>\n",
       "      <th>Precision</th>\n",
       "      <th>Recall</th>\n",
       "      <th>F1 Score</th>\n",
       "      <th>Overall Accuracy</th>\n",
       "    </tr>\n",
       "  </thead>\n",
       "  <tbody>\n",
       "    <tr>\n",
       "      <th>0</th>\n",
       "      <td>Benign</td>\n",
       "      <td>91</td>\n",
       "      <td>5</td>\n",
       "      <td>87</td>\n",
       "      <td>5</td>\n",
       "      <td>0.95</td>\n",
       "      <td>0.95</td>\n",
       "      <td>0.95</td>\n",
       "      <td>0.95</td>\n",
       "    </tr>\n",
       "    <tr>\n",
       "      <th>1</th>\n",
       "      <td>Malicious</td>\n",
       "      <td>87</td>\n",
       "      <td>5</td>\n",
       "      <td>91</td>\n",
       "      <td>5</td>\n",
       "      <td>0.95</td>\n",
       "      <td>0.95</td>\n",
       "      <td>0.95</td>\n",
       "      <td>0.95</td>\n",
       "    </tr>\n",
       "  </tbody>\n",
       "</table>\n",
       "</div>"
      ],
      "text/plain": [
       "       Label  TP  FP  TN  FN  Precision  Recall  F1 Score  Overall Accuracy\n",
       "0     Benign  91   5  87   5       0.95    0.95      0.95              0.95\n",
       "1  Malicious  87   5  91   5       0.95    0.95      0.95              0.95"
      ]
     },
     "execution_count": 22,
     "metadata": {},
     "output_type": "execute_result"
    }
   ],
   "source": [
    "# Evaluate model performance\n",
    "model_peformance('Gradient Boosting', y_test, gradient_pred)"
   ]
  },
  {
   "cell_type": "markdown",
   "id": "d7d21947",
   "metadata": {},
   "source": [
    "### Deep Learning Approach"
   ]
  },
  {
   "cell_type": "code",
   "execution_count": 23,
   "id": "bb380224",
   "metadata": {},
   "outputs": [],
   "source": [
    "model = Sequential([\n",
    "    Dense(64, activation='relu', input_shape=(x_train.shape[1], )),\n",
    "    Dense(64, activation='relu'),\n",
    "    Dense(512, activation='relu'),\n",
    "    Dense(512, activation='relu'),\n",
    "    Dense(1, activation='sigmoid')\n",
    "    \n",
    "])"
   ]
  },
  {
   "cell_type": "code",
   "execution_count": 24,
   "id": "1d65af44",
   "metadata": {},
   "outputs": [
    {
     "name": "stdout",
     "output_type": "stream",
     "text": [
      "Model: \"sequential\"\n",
      "_________________________________________________________________\n",
      " Layer (type)                Output Shape              Param #   \n",
      "=================================================================\n",
      " dense (Dense)               (None, 64)                448       \n",
      "                                                                 \n",
      " dense_1 (Dense)             (None, 64)                4160      \n",
      "                                                                 \n",
      " dense_2 (Dense)             (None, 512)               33280     \n",
      "                                                                 \n",
      " dense_3 (Dense)             (None, 512)               262656    \n",
      "                                                                 \n",
      " dense_4 (Dense)             (None, 1)                 513       \n",
      "                                                                 \n",
      "=================================================================\n",
      "Total params: 301,057\n",
      "Trainable params: 301,057\n",
      "Non-trainable params: 0\n",
      "_________________________________________________________________\n"
     ]
    }
   ],
   "source": [
    "model.summary()"
   ]
  },
  {
   "cell_type": "code",
   "execution_count": 26,
   "id": "da4b764f",
   "metadata": {},
   "outputs": [
    {
     "name": "stdout",
     "output_type": "stream",
     "text": [
      "('You must install pydot (`pip install pydot`) and install graphviz (see instructions at https://graphviz.gitlab.io/download/) ', 'for plot_model/model_to_dot to work.')\n"
     ]
    }
   ],
   "source": [
    "plot_model(model, 'modl.png', show_shapes=True)"
   ]
  },
  {
   "cell_type": "code",
   "execution_count": 27,
   "id": "e254c718",
   "metadata": {},
   "outputs": [],
   "source": [
    "x_train = x_train.astype(\"float32\")\n",
    "x_test = x_test.astype(\"float32\")"
   ]
  },
  {
   "cell_type": "code",
   "execution_count": 28,
   "id": "319a84da",
   "metadata": {},
   "outputs": [],
   "source": [
    "model.compile('adam', loss='binary_crossentropy', metrics = ['accuracy'])"
   ]
  },
  {
   "cell_type": "code",
   "execution_count": 29,
   "id": "a6939f24",
   "metadata": {},
   "outputs": [
    {
     "name": "stdout",
     "output_type": "stream",
     "text": [
      "Epoch 1/30\n",
      "94/94 [==============================] - 3s 17ms/step - loss: 1.4208 - accuracy: 0.6435 - val_loss: 0.6819 - val_accuracy: 0.8457\n",
      "Epoch 2/30\n",
      "94/94 [==============================] - 1s 13ms/step - loss: 0.5565 - accuracy: 0.7263 - val_loss: 0.6505 - val_accuracy: 0.6330\n",
      "Epoch 3/30\n",
      "94/94 [==============================] - 1s 13ms/step - loss: 0.7323 - accuracy: 0.7103 - val_loss: 0.3920 - val_accuracy: 0.8351\n",
      "Epoch 4/30\n",
      "94/94 [==============================] - 1s 13ms/step - loss: 0.4646 - accuracy: 0.7864 - val_loss: 0.3674 - val_accuracy: 0.8191\n",
      "Epoch 5/30\n",
      "94/94 [==============================] - 1s 13ms/step - loss: 0.4212 - accuracy: 0.7957 - val_loss: 0.4273 - val_accuracy: 0.7287\n",
      "Epoch 6/30\n",
      "94/94 [==============================] - 1s 13ms/step - loss: 0.4121 - accuracy: 0.8024 - val_loss: 0.3777 - val_accuracy: 0.8457\n",
      "Epoch 7/30\n",
      "94/94 [==============================] - 1s 15ms/step - loss: 0.4074 - accuracy: 0.8171 - val_loss: 0.3293 - val_accuracy: 0.8564\n",
      "Epoch 8/30\n",
      "94/94 [==============================] - 1s 13ms/step - loss: 0.4273 - accuracy: 0.7904 - val_loss: 0.3278 - val_accuracy: 0.8564\n",
      "Epoch 9/30\n",
      "94/94 [==============================] - 1s 15ms/step - loss: 0.4540 - accuracy: 0.8091 - val_loss: 0.3450 - val_accuracy: 0.8670\n",
      "Epoch 10/30\n",
      "94/94 [==============================] - 2s 16ms/step - loss: 0.6082 - accuracy: 0.7770 - val_loss: 0.3528 - val_accuracy: 0.8351\n",
      "Epoch 11/30\n",
      "94/94 [==============================] - 1s 16ms/step - loss: 0.4003 - accuracy: 0.8131 - val_loss: 0.3273 - val_accuracy: 0.8404\n",
      "Epoch 12/30\n",
      "94/94 [==============================] - 1s 14ms/step - loss: 0.3720 - accuracy: 0.8438 - val_loss: 0.2946 - val_accuracy: 0.8777\n",
      "Epoch 13/30\n",
      "94/94 [==============================] - 1s 13ms/step - loss: 0.3824 - accuracy: 0.8117 - val_loss: 0.3024 - val_accuracy: 0.8511\n",
      "Epoch 14/30\n",
      "94/94 [==============================] - 1s 13ms/step - loss: 0.4039 - accuracy: 0.7730 - val_loss: 0.4246 - val_accuracy: 0.7926\n",
      "Epoch 15/30\n",
      "94/94 [==============================] - 1s 13ms/step - loss: 0.4519 - accuracy: 0.7543 - val_loss: 0.3818 - val_accuracy: 0.8085\n",
      "Epoch 16/30\n",
      "94/94 [==============================] - 1s 14ms/step - loss: 0.5020 - accuracy: 0.7503 - val_loss: 0.3628 - val_accuracy: 0.8245\n",
      "Epoch 17/30\n",
      "94/94 [==============================] - 1s 14ms/step - loss: 0.4121 - accuracy: 0.7837 - val_loss: 0.3265 - val_accuracy: 0.8404\n",
      "Epoch 18/30\n",
      "94/94 [==============================] - 2s 18ms/step - loss: 0.3673 - accuracy: 0.8304 - val_loss: 0.3002 - val_accuracy: 0.8777\n",
      "Epoch 19/30\n",
      "94/94 [==============================] - 2s 16ms/step - loss: 0.3703 - accuracy: 0.8371 - val_loss: 0.2926 - val_accuracy: 0.8670\n",
      "Epoch 20/30\n",
      "94/94 [==============================] - 1s 13ms/step - loss: 0.3550 - accuracy: 0.8478 - val_loss: 0.2797 - val_accuracy: 0.8883\n",
      "Epoch 21/30\n",
      "94/94 [==============================] - 1s 14ms/step - loss: 0.3450 - accuracy: 0.8598 - val_loss: 0.3006 - val_accuracy: 0.8617\n",
      "Epoch 22/30\n",
      "94/94 [==============================] - 1s 14ms/step - loss: 0.3876 - accuracy: 0.8264 - val_loss: 0.4902 - val_accuracy: 0.6117\n",
      "Epoch 23/30\n",
      "94/94 [==============================] - 1s 12ms/step - loss: 0.4043 - accuracy: 0.7824 - val_loss: 0.2866 - val_accuracy: 0.8617\n",
      "Epoch 24/30\n",
      "94/94 [==============================] - 1s 10ms/step - loss: 0.3469 - accuracy: 0.8358 - val_loss: 0.3119 - val_accuracy: 0.9149\n",
      "Epoch 25/30\n",
      "94/94 [==============================] - 1s 16ms/step - loss: 0.3288 - accuracy: 0.8678 - val_loss: 0.2733 - val_accuracy: 0.8936\n",
      "Epoch 26/30\n",
      "94/94 [==============================] - 1s 13ms/step - loss: 0.3455 - accuracy: 0.8465 - val_loss: 0.3275 - val_accuracy: 0.8298\n",
      "Epoch 27/30\n",
      "94/94 [==============================] - 1s 13ms/step - loss: 0.3454 - accuracy: 0.8571 - val_loss: 0.3156 - val_accuracy: 0.8723\n",
      "Epoch 28/30\n",
      "94/94 [==============================] - 1s 14ms/step - loss: 0.3318 - accuracy: 0.8571 - val_loss: 0.2682 - val_accuracy: 0.9043\n",
      "Epoch 29/30\n",
      "94/94 [==============================] - 1s 14ms/step - loss: 0.3342 - accuracy: 0.8611 - val_loss: 0.4768 - val_accuracy: 0.7926\n",
      "Epoch 30/30\n",
      "94/94 [==============================] - 1s 13ms/step - loss: 0.3629 - accuracy: 0.8518 - val_loss: 0.2706 - val_accuracy: 0.8936\n"
     ]
    },
    {
     "data": {
      "text/plain": [
       "<keras.callbacks.History at 0x2208e03ce80>"
      ]
     },
     "execution_count": 29,
     "metadata": {},
     "output_type": "execute_result"
    }
   ],
   "source": [
    "model.fit(x_train, y_train, validation_data=(x_test, y_test),\n",
    "         batch_size = 8, verbose=1, epochs=30)"
   ]
  },
  {
   "cell_type": "code",
   "execution_count": 30,
   "id": "17d97bc2",
   "metadata": {},
   "outputs": [],
   "source": [
    "ANN_preds = model.predict(x_test)\n",
    "ANN_preds = np.where(ANN_preds > 0.5, 1, 0)"
   ]
  },
  {
   "cell_type": "code",
   "execution_count": 31,
   "id": "9aa0d0aa",
   "metadata": {},
   "outputs": [
    {
     "data": {
      "image/png": "[encoded data removed]",
      "text/plain": [
       "<Figure size 648x648 with 1 Axes>"
      ]
     },
     "metadata": {
      "needs_background": "light"
     },
     "output_type": "display_data"
    },
    {
     "name": "stdout",
     "output_type": "stream",
     "text": [
      "Performance table for ANN classifier!\n"
     ]
    },
    {
     "data": {
      "text/html": [
       "<div>\n",
       "<style scoped>\n",
       "    .dataframe tbody tr th:only-of-type {\n",
       "        vertical-align: middle;\n",
       "    }\n",
       "\n",
       "    .dataframe tbody tr th {\n",
       "        vertical-align: top;\n",
       "    }\n",
       "\n",
       "    .dataframe thead th {\n",
       "        text-align: right;\n",
       "    }\n",
       "</style>\n",
       "<table border=\"1\" class=\"dataframe\">\n",
       "  <thead>\n",
       "    <tr style=\"text-align: right;\">\n",
       "      <th></th>\n",
       "      <th>Label</th>\n",
       "      <th>TP</th>\n",
       "      <th>FP</th>\n",
       "      <th>TN</th>\n",
       "      <th>FN</th>\n",
       "      <th>Precision</th>\n",
       "      <th>Recall</th>\n",
       "      <th>F1 Score</th>\n",
       "      <th>Overall Accuracy</th>\n",
       "    </tr>\n",
       "  </thead>\n",
       "  <tbody>\n",
       "    <tr>\n",
       "      <th>0</th>\n",
       "      <td>Benign</td>\n",
       "      <td>79</td>\n",
       "      <td>3</td>\n",
       "      <td>89</td>\n",
       "      <td>17</td>\n",
       "      <td>0.96</td>\n",
       "      <td>0.82</td>\n",
       "      <td>0.89</td>\n",
       "      <td>0.89</td>\n",
       "    </tr>\n",
       "    <tr>\n",
       "      <th>1</th>\n",
       "      <td>Malicious</td>\n",
       "      <td>89</td>\n",
       "      <td>17</td>\n",
       "      <td>79</td>\n",
       "      <td>3</td>\n",
       "      <td>0.84</td>\n",
       "      <td>0.97</td>\n",
       "      <td>0.90</td>\n",
       "      <td>0.89</td>\n",
       "    </tr>\n",
       "  </tbody>\n",
       "</table>\n",
       "</div>"
      ],
      "text/plain": [
       "       Label  TP  FP  TN  FN  Precision  Recall  F1 Score  Overall Accuracy\n",
       "0     Benign  79   3  89  17       0.96    0.82      0.89              0.89\n",
       "1  Malicious  89  17  79   3       0.84    0.97      0.90              0.89"
      ]
     },
     "execution_count": 31,
     "metadata": {},
     "output_type": "execute_result"
    }
   ],
   "source": [
    "model_peformance('ANN', y_test, ANN_preds)"
   ]
  },
  {
   "cell_type": "code",
   "execution_count": null,
   "id": "737dafc3",
   "metadata": {},
   "outputs": [],
   "source": []
  },
  {
   "cell_type": "code",
   "execution_count": null,
   "id": "e59f06f8",
   "metadata": {},
   "outputs": [],
   "source": []
  },
  {
   "cell_type": "code",
   "execution_count": null,
   "id": "a5343d38",
   "metadata": {},
   "outputs": [],
   "source": []
  }
 ],
 "metadata": {
  "kernelspec": {
   "display_name": "Python 3 (ipykernel)",
   "language": "python",
   "name": "python3"
  },
  "language_info": {
   "codemirror_mode": {
    "name": "ipython",
    "version": 3
   },
   "file_extension": ".py",
   "mimetype": "text/x-python",
   "name": "python",
   "nbconvert_exporter": "python",
   "pygments_lexer": "ipython3",
   "version": "3.9.7"
  }
 },
 "nbformat": 4,
 "nbformat_minor": 5
}
